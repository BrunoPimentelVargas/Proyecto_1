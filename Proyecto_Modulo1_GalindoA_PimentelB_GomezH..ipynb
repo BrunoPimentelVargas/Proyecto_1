{
 "cells": [
  {
   "cell_type": "markdown",
   "metadata": {},
   "source": [
    "# 1.1 Problema Lineal de Producción de Helados "
   ]
  },
  {
   "cell_type": "markdown",
   "metadata": {},
   "source": [
    "### 1.2 Objetivos"
   ]
  },
  {
   "cell_type": "markdown",
   "metadata": {},
   "source": [
    "#### 1.2.1 Objetivo general.\n",
    "Determinar el plan semanal de producción de los diferentes tipos de paletas que conforman la “Gama Gourmet”, con el objetivo de maximizar  beneficios. \n",
    "\n",
    "#### 1.2.2 Objetivos específicos\n",
    "* Cumplir con la demanda semanal de la empresa. \n",
    "* Maximizar la ganancia de la empresa.\n",
    "* Determinar la cantidad de paletas a producir de cada sabor."
   ]
  },
  {
   "cell_type": "markdown",
   "metadata": {},
   "source": [
    "### 1.3 Modelo que representa el problema"
   ]
  },
  {
   "cell_type": "markdown",
   "metadata": {},
   "source": [
    "Nuestra empresa de origen valenciano afincada en Sevilla desde la década de los años 70, se dedica a la elaboración de helados artesanos. Después de estos años de grandes progresos en su negocio, desea abrir mercado para poder enfrentarse a la situación actual.\n",
    "Esta ampliación tiene como objetivo introducir sus productos en el sector de la hostelería, mediante la propuesta de una gama de helados que podemos considerar “Gourmet”. A continuación detallaremos dicha gama."
   ]
  },
  {
   "cell_type": "markdown",
   "metadata": {},
   "source": [
    "Creada por el gran Filippo Zampieron está compuesta por cinco tipos de paletas artesanales: \n",
    "1. Paletas de menta\n",
    "2. Paletas de chocolate\n",
    "3. Paletas de yogurt y melocotón \n",
    "4. Paletas de almendras  \n",
    "5. Paletas “Fiordilatte”.\n",
    "\n",
    "Aunque la elaboración de todas las paletas difieren en diversos aspectos, ya sea en la composición de la base, cobertura o en las proporciones de cada componente, hay un producto común en todas ellas; “*Jarabe Base*” ya que sin este no sería posible la fabricación de la base de las paletas."
   ]
  },
  {
   "cell_type": "markdown",
   "metadata": {},
   "source": [
    "Este Jarabe, está compuesto por: \n",
    "* Agua: 655 gr\n",
    "* Azúcar de caña : 180 gr\n",
    "* Dextosa: 35 gr\n",
    "* Glucosa: 130 gr\n",
    "    \n",
    "A continuación detallamos el proceso de elaboración y las cantidades utilizadas\n",
    "para la fabricación de un kilo de cada tipo de paletas.\n"
   ]
  },
  {
   "cell_type": "markdown",
   "metadata": {},
   "source": [
    "#### <font color=\"darkblue\">Paletas de menta\n",
    "<img style=\"float: right; margin: 0px 0px 15px 15px;\" src=\"https://likeavegan.com.au/wp-content/uploads/2014/10/chocmintpop.jpg\" width=\"200px\" height=\"75px\" />\n",
    "\n",
    "La fabricación de este producto comienza con la elaboración de la base. Para ello se utilizan $550 gr$ del jarabe, seguido de unas gotas de esencia de menta ($10 gotas$) y posteriormente añadiendo unos $450 gr$ de leche fresca entera.\n",
    "Una vez que se ha mezclado la base y se ha dejado reposar para conseguir una textura idónea se procede a la elaboración de su cobertura.\n",
    "Está compuesta por unos $800 gr$ chocolate y $200 gr$ de manteca de cacao."
   ]
  },
  {
   "cell_type": "markdown",
   "metadata": {},
   "source": [
    "#### <font color=\"darkblue\">Paletas de Chocolate\n",
    "<img style=\"float: left; margin: 10px 10px 10px 10px;\" src=\"https://s23991.pcdn.co/wp-content/uploads/2011/08/mexican-chocolate-pops-recipe.jpg\" width=\"150px\" height=\"50px\" />\n",
    "La base de estas está compuesta por: $500 gr$ de jarabe, $440 gr$ de leche entera fresca unos $25 gr$ de azúcar invertido (una combinación de glucosa y fructosa) y por último, 35 gr de cacao.\n",
    "La cobertura al igual que el producto anterior está compuesta por: $800 gr$ de chocolate y $200 gr$ de manteca de cacao."
   ]
  },
  {
   "cell_type": "markdown",
   "metadata": {},
   "source": [
    "#### <font color=\"darkblue\">Paletas de Yogurt y Melocotón\n",
    "<img style=\"float: right; margin: 10px 10px 10px 10px;\" src=\"https://cookieandkate.com/images/2015/08/peach-popsicles-recipe.jpg\" width=\"150px\" height=\"50px\" />\n",
    "Con una base compuesta por: $430 gr$ de jarabe, $300 gr$ de yogurt desnatado, $20 gr$ de azúcar invertido y $250 gr$ de melocotón batido.\n",
    "Su cobertura es una dulce combinación de $500 gr$ de chocolate y $500 gr$ de nata."
   ]
  },
  {
   "cell_type": "markdown",
   "metadata": {},
   "source": [
    "#### <font color=\"darkblue\">Paletas de almendra\n",
    "<img style=\"float: left; margin: 10px 10px 10px 10px;\" src=\"https://www.thelittleepicurean.com/wp-content/uploads/2015/01/banana-coconut-ice-pops.jpg\" width=\"200px\" height=\"50px\" />\n",
    "Base elaborada por: $400 gr$ de jarabe, $495 gr$ de leche fresca entera, $25 gr$ de azúcar invertido.\n",
    "La cobertura está elaborada por $800 gr$ de chocolate, $200 gr$ de manteca de cacao y $80 gr$ de pasta de almendras."
   ]
  },
  {
   "cell_type": "markdown",
   "metadata": {},
   "source": [
    "#### <font color=\"darkblue\">Paletas “Fiordilatte”\n",
    "<img style=\"float: right; margin: 10px 10px 15px 15px;\" src=\"https://justbakedbyme.files.wordpress.com/2012/07/vanilla-bean-custard-pops-7.jpg?w=768&h=559\" width=\"200px\" height=\"50px\" />\n",
    "Su elaboración comienza con la base compuesta por $510 gr$ de jarabe, $510 gr$ de leche fresca entera, $250 gr$ de nata, $200 gr$ de azúcar invertido.\n",
    "Una vez que la base se haya mezclado y adoptado la textura deseada, se le inyecta un relleno compuesto por: $550 gr$ de nata y $500 gr$ de chocolate.\n",
    "Finalmente, esperado el tiempo necesario para que el relleno se adapte a la base, se le añade una cobertura de $800 gr$ de chocolate y $200 gr$ de manteca de cacao."
   ]
  },
  {
   "cell_type": "markdown",
   "metadata": {},
   "source": [
    "**Se ha realizado un estudio de mercado y de producción, que nos proporcionan los siguientes datos:**\n",
    "\n",
    "#### <font color=\"blue\">*Beneficio esperado por cada kilo de las diferentes paletas:*\n",
    "\n",
    "* Paletas de menta: $23$ pesos el kilo\n",
    "* Paletas de chocolate: $22.5$ pesos el kilo\n",
    "* Paletas de yogurt y melocotón: $21$ pesos el kilo  \n",
    "* Paletas de almendras: $20.5$ pesos el kilo\n",
    "* Paletas “ Fiordilatte”: $21$ pesos el kilo\n",
    "\n",
    "#### <font color=\"blue\">*Disponibilidad semanal de las siguientes materias primas :*\n",
    "\n",
    "* Jarabe Base: $20,5$ kg\n",
    "* Leche Fresca entera: $13$ kg\n",
    "* Yogurt desnatado: $5$ kg\n",
    "* Nata: $8,5$ kg\n",
    "* Azúcar invertido: $1,3$ kg\n",
    "* Chocolate: $27$ kg\n",
    "* Manteca de cacao: $5$ kg\n",
    "* Esencia de menta: $2$ frasco de $90 ml$, cada frasco proporciona $75$ gotas.\n",
    "* Cacao: $0,28$ kg ( $2$ bolsas de $140$ gr cada uno)\n",
    "* Melocotón batido: $4$ kg\n",
    "* Pasta de almendras: $0,8$ kg ( $2$ bolsas de $400$ gr cada una)\n"
   ]
  },
  {
   "cell_type": "markdown",
   "metadata": {},
   "source": [
    "#### <font color=\"blue\">*Demanda esperada semanalmente para cada tipo de paleta:*\n",
    "* Demanda de paletas de menta y paletas de chocolate: $10$ kilos \n",
    "* Demanda de paletas de yogurt y paletas de almendras: $10$ kilos \n",
    "* No se ha estimado demanda alguna de paletas Fiordilatte.\n"
   ]
  },
  {
   "cell_type": "markdown",
   "metadata": {},
   "source": [
    "#### <font color=\"blue\">*Variables de decisión:*\n",
    "* $x_1$ kilos a fabricar semanalmente de paletas de menta\n",
    "* $x_2$ kilos a fabricar semanalmente de paletas de chocolate\n",
    "* $x_3$ kilos a fabricar semanalmente de paletas de yogur y melocotón\n",
    "* $x_4$ kilos a fabricar semanalmente de paletas de almendras\n",
    "* $x_5$ kilos a fabricar semanalmente de paletas fiordilatte"
   ]
  },
  {
   "cell_type": "markdown",
   "metadata": {},
   "source": [
    "#### <font color=\"blue\">*Restricciones*\n",
    "\n",
    "Limitación de Jarabe Base: $20,5$ kilos\n",
    "\n",
    "$550x_1+500x_2+430x_3+400x_4+510x_5+\\leq20500$\n",
    "\n",
    "Limitación de Leche Fresca Entera: $13$ kilos\n",
    "\n",
    "$450x_1+440x_2+495x_4+510x_5\\leq13000$\n",
    "\n",
    "Limitación de Yogurt desnatado: $5$ kilos \n",
    "\n",
    "$300x_3\\leq5000$\n",
    "\n",
    "Limitación de Nata: $8,5$ kilos \n",
    "\n",
    "$500x_3+550x_5\\leq8500$\n",
    "\n",
    "Limitación de Azúcar invertido: $1,3$ kilo \n",
    "\n",
    "$25x_2+20x_3+25x_4+200x_5\\leq1300$\n",
    "\n",
    "Limitación de Chocolate: $27$ kilos\n",
    "\n",
    "$800x_1+800x_2+500x_3+800x_4+1300x_5\\leq27000$\n",
    "\n",
    "Limitación de Manteca de cacao: 5 kilos\n",
    "\n",
    "$200x_1+200x_2+200x_4+200x_5\\leq5000$\n",
    "\n",
    "Limitación de Esencia de menta: $150$ gotas\n",
    "\n",
    "$10x_1\\leq150$\n",
    "\n",
    "Limitación de Cacao: 0,28 kg \n",
    "\n",
    "$35x_2\\leq280$\n",
    "\n",
    "Limitación de Melocotón Batido: 4 kilos\n",
    "\n",
    "$250x_3\\leq4000$\n",
    "\n",
    "Limitación de Pasta de Almendras: 0.8 kilo\n",
    "\n",
    "$80x_4\\leq800$\n",
    "\n",
    "Restricciones con respecto a la demanda:\n",
    "\n",
    "$x_1+x_2\\geq10$ \n",
    "\n",
    "$x_3+x_4\\geq10$\n",
    "\n",
    "Función Objetivo: Beneficio\n",
    "\n",
    "$23x_1+22.5x_2 21x_3 20.5x_4 21x_5 $"
   ]
  },
  {
   "cell_type": "markdown",
   "metadata": {},
   "source": [
    "### 1.4 Solución del problema de optimización."
   ]
  },
  {
   "cell_type": "markdown",
   "metadata": {},
   "source": [
    "Sintetizando las restricciones y nuestra función a optimizar obtenemos lo siguiente:\n",
    "\n",
    "Max  $23x_1+22.5x_2+21x_3+20.5x_4+21x_5$ \n",
    "\n",
    "s.a. \n",
    "\n",
    "$550x_1+500x_2+430x_3+400x_4+510x_5\\leq20500$\n",
    "\n",
    "$450x_1+440x_2+495x_4+510x_5\\leq13000$ \n",
    "     \n",
    "$300x_3\\leq5000$\n",
    "     \n",
    "$500x_3+550x5\\leq8500$\n",
    "     \n",
    "$25x_2+20x_3+25x_4+200x_5\\leq1300$\n",
    "     \n",
    "$800x_1+800x_2+500x_3+800x_4+1300x_5\\leq27000$\n",
    "     \n",
    "$200x_1+200x_2+200x_4+200x_5\\leq5000$\n",
    "     \n",
    "$10x_1\\leq150$\n",
    "     \n",
    "$35x_2\\leq280$\n",
    "     \n",
    "$250x_3\\leq4000$\n",
    "     \n",
    "$80x_4\\leq800$\n",
    "     \n",
    "$x_1+x_2\\geq10$ \n",
    "     \n",
    "$x_3+x_4\\geq10$ \n",
    "     \n",
    "$x_1,x_2,x_3,x_4,x_5\\geq0$"
   ]
  },
  {
   "cell_type": "code",
   "execution_count": 2,
   "metadata": {},
   "outputs": [],
   "source": [
    "import numpy as np\n",
    "import scipy.optimize as opt\n",
    "c = -np.array([23, 22.5, 21, 20.5, 21])\n",
    "A = np.array([[550, 500, 430, 400, 510],\n",
    "              [450, 440, 0, 495, 510],\n",
    "              [0, 0, 300, 0, 0],\n",
    "              [0, 0, 500, 0, 550],\n",
    "              [0, 25, 20, 25, 200],\n",
    "              [800, 800, 500, 800, 1300],\n",
    "              [200, 200, 0, 200, 200],\n",
    "              [10, 0, 0, 0, 0],\n",
    "              [0, 35, 0, 0, 0],\n",
    "              [0, 0, 250, 0, 0],\n",
    "              [0, 0, 0, 80, 0],\n",
    "              [-1, -1, 0, 0, 0],\n",
    "              [0, 0, -1, -1, 0]])\n",
    "b = np.array([20500, 13000, 5000, 8500, 1300, 27000, 5000, 150, 280, 4000, 800, -10, -10])"
   ]
  },
  {
   "cell_type": "code",
   "execution_count": 3,
   "metadata": {},
   "outputs": [
    {
     "data": {
      "text/plain": [
       "     fun: -876.375\n",
       " message: 'Optimization terminated successfully.'\n",
       "     nit: 8\n",
       "   slack: array([1070.  , 2358.75,  200.  ,  500.  ,  761.25,    0.  ,  250.  ,\n",
       "          0.  ,    0.  ,    0.  ,  740.  ,   13.  ,    6.75])\n",
       "  status: 0\n",
       " success: True\n",
       "       x: array([15.  ,  8.  , 16.  ,  0.75,  0.  ])"
      ]
     },
     "execution_count": 3,
     "metadata": {},
     "output_type": "execute_result"
    }
   ],
   "source": [
    "utilidad = opt.linprog(c, A_ub=A, b_ub=b)\n",
    "utilidad"
   ]
  },
  {
   "cell_type": "markdown",
   "metadata": {},
   "source": [
    "### 1.5 Visualización de la solución del problema "
   ]
  },
  {
   "cell_type": "markdown",
   "metadata": {},
   "source": [
    "Una vez que hemos descrito el proceso de producción de cada producto, hemos sintetizado toda la información en el siguiente cuadro para ver de una forma más clara, los requisitos de materias primas por tipo de paleta\n",
    "\n",
    "|Jarabe|Leche entera fresca|Yogurt desnatado|Nata|Azúcar inv.|Chocolate|Manteca cacao|Esencia menta|Cacao|Melocotón|Pasta de almendras\n",
    ":----|----\n",
    "P. Menta|550gr|450gr||||800gr|200gr|10gr\n",
    "P. Chocolate|500|440|||25|800|200||35\n",
    "P. Yogurt y Melocotón|430||300|500|20|500||||250\n",
    "P. Almendra|400|495|||25|800|200||||80\n",
    "P. Fiordilatte|510|510||550|200|1300|200\n",
    "\n",
    "Teniendo una demanda:\n",
    "\n",
    "\n",
    "$P. Menta+P. Chocolate\\geq10$ \n",
    "     \n",
    "$P. Yogurt y melocotón + P. Almendra\\geq10$ "
   ]
  },
  {
   "cell_type": "code",
   "execution_count": 4,
   "metadata": {},
   "outputs": [
    {
     "data": {
      "text/plain": [
       "array([15.  ,  8.  , 16.  ,  0.75,  0.  ])"
      ]
     },
     "execution_count": 4,
     "metadata": {},
     "output_type": "execute_result"
    }
   ],
   "source": [
    "resultado= utilidad.x\n",
    "resultado"
   ]
  },
  {
   "cell_type": "code",
   "execution_count": 5,
   "metadata": {},
   "outputs": [
    {
     "data": {
      "text/plain": [
       "array([1070.  , 2358.75,  200.  ,  500.  ,  761.25,    0.  ,  250.  ,\n",
       "          0.  ,    0.  ,    0.  ,  740.  ,   13.  ,    6.75])"
      ]
     },
     "execution_count": 5,
     "metadata": {},
     "output_type": "execute_result"
    }
   ],
   "source": [
    "excedente= utilidad.slack\n",
    "excedente"
   ]
  },
  {
   "cell_type": "markdown",
   "metadata": {},
   "source": [
    "### 1.6 Conclusiones \n",
    "\n"
   ]
  },
  {
   "cell_type": "markdown",
   "metadata": {},
   "source": [
    "Nuestra empresa va a obtener un beneficio máximo de **876,375 pesos** cuando se producen $15 k$ de paletas de menta, $8 k$ de paletas de chocolate, $16 k $ de paletas de yogurt y melocotón junto con $0.75 k $ de paletas de almendra. En esta producción óptima no se contempla la fabricación de las paletas de \"Fiordilatte\" y como estas no estan contempladas en nuestra demanda no afecta nuestra proyección de ventas. \n",
    "\n",
    "Cuando se cumple esta producción óptima vamos a agotar las siguientes materias primas:\n",
    "* Chocolate\n",
    "* Esencia de menta\n",
    "* Cacao \n",
    "* Melocotón batido\n",
    "\n",
    "Mientras que quedamos con lo siguiente en el almacén:\n",
    "* $1070 gr$ de Jarabe Base\n",
    "* $2358.75 gr$ de leche entera fresca\n",
    "* $200 gr$ de yogurt desnatado\n",
    "* $500 gr$ de nata\n",
    "* $761.25 gr$ de azúcar invertido\n",
    "* $250 gr$ de manteca de cacao\n",
    "* $740 gr$ de pasta de almendras\n",
    "\n",
    "Con respecto a la demanda, encontramos un excedente de $13 k$ de paletas de menta y chocolate, mientras que son $6.75 k$ el excedente de paletas de almendra y yogurt con melocotón. "
   ]
  },
  {
   "cell_type": "markdown",
   "metadata": {},
   "source": [
    "### 1.7 Referencias \n",
    "* https://idus.us.es/xmlui/bitstream/handle/11441/42359/conejero%20calvo%20de%20leon%20elena%20tr.pdf?sequence=1"
   ]
  }
 ],
 "metadata": {
  "kernelspec": {
   "display_name": "Python 3",
   "language": "python",
   "name": "python3"
  },
  "language_info": {
   "codemirror_mode": {
    "name": "ipython",
    "version": 3
   },
   "file_extension": ".py",
   "mimetype": "text/x-python",
   "name": "python",
   "nbconvert_exporter": "python",
   "pygments_lexer": "ipython3",
   "version": "3.6.5"
  }
 },
 "nbformat": 4,
 "nbformat_minor": 2
}
